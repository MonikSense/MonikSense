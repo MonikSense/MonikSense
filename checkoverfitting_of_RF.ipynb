{
  "nbformat": 4,
  "nbformat_minor": 0,
  "metadata": {
    "colab": {
      "provenance": [],
      "authorship_tag": "ABX9TyMf8tW8fe+3n1Ag/ax5bdq2",
      "include_colab_link": true
    },
    "kernelspec": {
      "name": "python3",
      "display_name": "Python 3"
    },
    "language_info": {
      "name": "python"
    }
  },
  "cells": [
    {
      "cell_type": "markdown",
      "metadata": {
        "id": "view-in-github",
        "colab_type": "text"
      },
      "source": [
        "<a href=\"https://colab.research.google.com/github/MonikSense/MonikSense/blob/main/checkoverfitting_of_RF.ipynb\" target=\"_parent\"><img src=\"https://colab.research.google.com/assets/colab-badge.svg\" alt=\"Open In Colab\"/></a>"
      ]
    },
    {
      "cell_type": "code",
      "execution_count": 6,
      "metadata": {
        "colab": {
          "base_uri": "https://localhost:8080/"
        },
        "id": "t7PamD-Q-lPv",
        "outputId": "470a3bac-9ec8-4d4e-fa6a-ef47e532612e"
      },
      "outputs": [
        {
          "output_type": "stream",
          "name": "stdout",
          "text": [
            "Train R²: 0.9997981670059575\n",
            "Test R²: 0.9996219605075621\n",
            "Cross-Validation R² Scores: [0.62560539 0.24089765 0.97239435 0.54964784 0.97199033]\n",
            "Mean CV R²: 0.6721071126600193\n",
            "Cross-Validation R² Scores: [0.62560539 0.24089765 0.97239435 0.54964784 0.97199033]\n",
            "Mean CV R²: 0.6721071126600193\n"
          ]
        }
      ],
      "source": [
        "from sklearn.model_selection import train_test_split\n",
        "from sklearn.ensemble import RandomForestRegressor\n",
        "from sklearn.metrics import r2_score\n",
        "import numpy as np\n",
        "from sklearn.model_selection import cross_val_score\n",
        "\n",
        "import pandas as pd\n",
        "\n",
        "# Load the dataset\n",
        "df = pd.read_csv(\"https://raw.githubusercontent.com/MonikSense/MonikSense/refs/heads/main/MXENE%201%20L.csv\")\n",
        "\n",
        "# Assuming the last column is the target variable\n",
        "X = df.iloc[:, :-1]  # Features\n",
        "y = df.iloc[:, -1]   # Target\n",
        "\n",
        "# Split data into training and testing sets (80% train, 20% test)\n",
        "X_train, X_test, y_train, y_test = train_test_split(X, y, test_size=0.2, random_state=42)\n",
        "\n",
        "# Train the Random Forest model\n",
        "rf = RandomForestRegressor(n_estimators=5, random_state=50)\n",
        "rf.fit(X_train, y_train)\n",
        "\n",
        "# Evaluate on both training and test data\n",
        "y_train_pred = rf.predict(X_train)\n",
        "y_test_pred = rf.predict(X_test)\n",
        "\n",
        "r2_train = r2_score(y_train, y_train_pred)\n",
        "r2_test = r2_score(y_test, y_test_pred)\n",
        "\n",
        "print(f\"Train R²: {r2_train}\")\n",
        "print(f\"Test R²: {r2_test}\")\n",
        "\n",
        "cv_scores = cross_val_score(rf, X, y, cv=5, scoring='r2')\n",
        "print(\"Cross-Validation R² Scores:\", cv_scores)\n",
        "print(\"Mean CV R²:\", cv_scores.mean())\n",
        "\n",
        "#K-fold cross validation\n",
        "cv_scores = cross_val_score(rf, X, y, cv=5, scoring='r2')\n",
        "print(\"Cross-Validation R² Scores:\", cv_scores)\n",
        "print(\"Mean CV R²:\", np.mean(cv_scores))"
      ]
    }
  ]
}